{
 "cells": [
  {
   "cell_type": "markdown",
   "id": "periodic-concept",
   "metadata": {
    "papermill": {
     "duration": 0.009778,
     "end_time": "2021-07-29T04:02:31.896578",
     "exception": false,
     "start_time": "2021-07-29T04:02:31.886800",
     "status": "completed"
    },
    "tags": []
   },
   "source": [
    "# **Notebooks sequence;)**\n",
    "* Train-val split notebook [here](https://www.kaggle.com/chamecall/train-val-split).<br>\n",
    "* Pretrain roberta-base on mlm with the competition data notebook [here](https://www.kaggle.com/chamecall/clrp-pretrain).<br>\n",
    "* Finetune pretrained roberta-base on readability task notebook [here](https://www.kaggle.com/chamecall/clrp-finetune).<br>\n",
    "* Inference model notebook [*CURRENT ONE*].<br>"
   ]
  },
  {
   "cell_type": "code",
   "execution_count": 1,
   "id": "brief-thomson",
   "metadata": {
    "_cell_guid": "93620de9-b3b8-4129-8b7b-0b276cc58d68",
    "_uuid": "932f2c25-03ca-46e7-a87f-7daadf0247a6",
    "collapsed": false,
    "execution": {
     "iopub.execute_input": "2021-07-29T04:02:31.925056Z",
     "iopub.status.busy": "2021-07-29T04:02:31.924357Z",
     "iopub.status.idle": "2021-07-29T04:02:31.927782Z",
     "shell.execute_reply": "2021-07-29T04:02:31.927198Z",
     "shell.execute_reply.started": "2021-07-26T09:05:33.323647Z"
    },
    "jupyter": {
     "outputs_hidden": false
    },
    "papermill": {
     "duration": 0.021164,
     "end_time": "2021-07-29T04:02:31.927913",
     "exception": false,
     "start_time": "2021-07-29T04:02:31.906749",
     "status": "completed"
    },
    "tags": []
   },
   "outputs": [],
   "source": [
    "\n",
    "import os\n",
    "from pathlib import Path\n",
    "in_folder_path = Path('../input/k/leolu1998/clrp-finetune-roberta-large')\n",
    "scripts_dir = Path(in_folder_path / 'scripts')"
   ]
  },
  {
   "cell_type": "code",
   "execution_count": 2,
   "id": "early-journalism",
   "metadata": {
    "execution": {
     "iopub.execute_input": "2021-07-29T04:02:31.950286Z",
     "iopub.status.busy": "2021-07-29T04:02:31.949727Z",
     "iopub.status.idle": "2021-07-29T04:02:39.878795Z",
     "shell.execute_reply": "2021-07-29T04:02:39.877834Z",
     "shell.execute_reply.started": "2021-07-26T09:05:33.339352Z"
    },
    "papermill": {
     "duration": 7.942391,
     "end_time": "2021-07-29T04:02:39.878942",
     "exception": false,
     "start_time": "2021-07-29T04:02:31.936551",
     "status": "completed"
    },
    "tags": []
   },
   "outputs": [],
   "source": [
    "\n",
    "os.chdir(scripts_dir)\n",
    "exec(Path(\"imports.py\").read_text())\n",
    "exec(Path(\"config.py\").read_text())\n",
    "exec(Path(\"dataset.py\").read_text())\n",
    "exec(Path(\"model.py\").read_text())\n",
    "os.chdir('/kaggle/working')\n"
   ]
  },
  {
   "cell_type": "code",
   "execution_count": 3,
   "id": "nutritional-hampton",
   "metadata": {
    "_cell_guid": "f182401e-add4-489a-97ad-253995c77ea4",
    "_uuid": "db10450f-b0f8-4687-aed6-d1a986657ce6",
    "collapsed": false,
    "execution": {
     "iopub.execute_input": "2021-07-29T04:02:39.906270Z",
     "iopub.status.busy": "2021-07-29T04:02:39.905634Z",
     "iopub.status.idle": "2021-07-29T04:04:44.398267Z",
     "shell.execute_reply": "2021-07-29T04:04:44.397683Z",
     "shell.execute_reply.started": "2021-07-26T09:05:43.450378Z"
    },
    "jupyter": {
     "outputs_hidden": false
    },
    "papermill": {
     "duration": 124.510896,
     "end_time": "2021-07-29T04:04:44.398451",
     "exception": false,
     "start_time": "2021-07-29T04:02:39.887555",
     "status": "completed"
    },
    "tags": []
   },
   "outputs": [
    {
     "name": "stdout",
     "output_type": "stream",
     "text": [
      "Inference#1/10\n",
      "Inference#2/10\n",
      "Inference#3/10\n",
      "Inference#4/10\n",
      "Inference#5/10\n",
      "Inference#6/10\n",
      "Inference#7/10\n",
      "Inference#8/10\n",
      "Inference#9/10\n",
      "Inference#10/10\n"
     ]
    }
   ],
   "source": [
    "\n",
    "test_df = pd.read_csv(\"/kaggle/input/commonlitreadabilityprize/test.csv\")\n",
    "tokenizer = torch.load('../input/mytokenizers/roberta-tokenizer.pt')\n",
    "models_folder_path = Path(in_folder_path / 'models')\n",
    "models_preds = []\n",
    "n_models = 10\n",
    "\n",
    "for model_num in range(n_models):\n",
    "    print(f'Inference#{model_num+1}/{n_models}')\n",
    "    test_ds = CLRPDataset(data=test_df, tokenizer=tokenizer, max_len=Config.max_len, is_test=True)\n",
    "    test_sampler = SequentialSampler(test_ds)\n",
    "    test_dataloader = DataLoader(test_ds, sampler = test_sampler, batch_size=Config.batch_size)\n",
    "    model = torch.load(models_folder_path / f'best_model_{model_num}.pt').to(Config.device)\n",
    "\n",
    "    all_preds = []\n",
    "    \n",
    "    model.eval()\n",
    "\n",
    "    for step,batch in enumerate(test_dataloader):\n",
    "        sent_id, mask = batch['input_ids'].to(Config.device), batch['attention_mask'].to(Config.device)\n",
    "        with torch.no_grad():\n",
    "            preds = model(sent_id, mask)\n",
    "            all_preds += preds.flatten().cpu().tolist()\n",
    "            \n",
    "    models_preds.append(all_preds)\n",
    "del model, tokenizer, test_dataloader, test_sampler\n",
    "gc.collect()\n",
    "torch.cuda.empty_cache()\n",
    "\n"
   ]
  },
  {
   "cell_type": "markdown",
   "id": "fallen-rendering",
   "metadata": {
    "papermill": {
     "duration": 0.011979,
     "end_time": "2021-07-29T04:04:44.422070",
     "exception": false,
     "start_time": "2021-07-29T04:04:44.410091",
     "status": "completed"
    },
    "tags": []
   },
   "source": [
    "# ENS 2"
   ]
  },
  {
   "cell_type": "code",
   "execution_count": 4,
   "id": "automotive-newport",
   "metadata": {
    "execution": {
     "iopub.execute_input": "2021-07-29T04:04:44.456758Z",
     "iopub.status.busy": "2021-07-29T04:04:44.455882Z",
     "iopub.status.idle": "2021-07-29T04:05:40.186294Z",
     "shell.execute_reply": "2021-07-29T04:05:40.185752Z",
     "shell.execute_reply.started": "2021-07-26T09:07:51.136386Z"
    },
    "papermill": {
     "duration": 55.753162,
     "end_time": "2021-07-29T04:05:40.186466",
     "exception": false,
     "start_time": "2021-07-29T04:04:44.433304",
     "status": "completed"
    },
    "tags": []
   },
   "outputs": [
    {
     "name": "stdout",
     "output_type": "stream",
     "text": [
      "Inference#1/5\n",
      "Inference#2/5\n",
      "Inference#3/5\n",
      "Inference#4/5\n",
      "Inference#5/5\n"
     ]
    }
   ],
   "source": [
    "\n",
    "import os\n",
    "from pathlib import Path\n",
    "in_folder_path2 = Path('../input/clrprobertalarge463-lb')\n",
    "scripts_dir2 = Path(in_folder_path2 / 'scripts')\n",
    "\n",
    "os.chdir(scripts_dir2)\n",
    "exec(Path(\"imports.py\").read_text())\n",
    "exec(Path(\"config.py\").read_text())\n",
    "exec(Path(\"dataset.py\").read_text())\n",
    "exec(Path(\"model.py\").read_text())\n",
    "os.chdir('/kaggle/working')\n",
    "\n",
    "test_df = pd.read_csv(\"/kaggle/input/commonlitreadabilityprize/test.csv\")\n",
    "tokenizer = torch.load('../input/mytokenizers/roberta-tokenizer.pt')\n",
    "models_folder_path2 = Path(in_folder_path2 / 'models')\n",
    "models_preds2 = []\n",
    "n_models = 5\n",
    "\n",
    "for model_num in range(n_models):\n",
    "    print(f'Inference#{model_num+1}/{n_models}')\n",
    "    test_ds = CLRPDataset(data=test_df, tokenizer=tokenizer, max_len=Config.max_len, is_test=True)\n",
    "    test_sampler = SequentialSampler(test_ds)\n",
    "    test_dataloader = DataLoader(test_ds, sampler = test_sampler, batch_size=Config.batch_size)\n",
    "    model2 = torch.load(models_folder_path2 / f'best_model_{model_num}.pt').to(Config.device)\n",
    "\n",
    "    all_preds2 = []\n",
    "    \n",
    "    model2.eval()\n",
    "\n",
    "    for step,batch in enumerate(test_dataloader):\n",
    "        sent_id, mask = batch['input_ids'].to(Config.device), batch['attention_mask'].to(Config.device)\n",
    "        with torch.no_grad():\n",
    "            preds2 = model2(sent_id, mask)\n",
    "            all_preds2 += preds2.flatten().cpu().tolist()\n",
    "            \n",
    "    models_preds2.append(all_preds2)\n",
    "\n",
    "####\n",
    "del model2, tokenizer, test_dataloader, test_sampler\n",
    "gc.collect()\n",
    "torch.cuda.empty_cache()"
   ]
  },
  {
   "cell_type": "markdown",
   "id": "mechanical-importance",
   "metadata": {
    "papermill": {
     "duration": 0.013301,
     "end_time": "2021-07-29T04:05:40.214563",
     "exception": false,
     "start_time": "2021-07-29T04:05:40.201262",
     "status": "completed"
    },
    "tags": []
   },
   "source": [
    "# ENS 3"
   ]
  },
  {
   "cell_type": "code",
   "execution_count": 5,
   "id": "municipal-insured",
   "metadata": {
    "execution": {
     "iopub.execute_input": "2021-07-29T04:05:40.262094Z",
     "iopub.status.busy": "2021-07-29T04:05:40.261595Z",
     "iopub.status.idle": "2021-07-29T04:06:01.903148Z",
     "shell.execute_reply": "2021-07-29T04:06:01.902647Z",
     "shell.execute_reply.started": "2021-07-26T09:08:46.615234Z"
    },
    "papermill": {
     "duration": 21.6759,
     "end_time": "2021-07-29T04:06:01.903271",
     "exception": false,
     "start_time": "2021-07-29T04:05:40.227371",
     "status": "completed"
    },
    "tags": []
   },
   "outputs": [
    {
     "name": "stdout",
     "output_type": "stream",
     "text": [
      "Inference#1/5\n",
      "Inference#2/5\n",
      "Inference#3/5\n",
      "Inference#4/5\n",
      "Inference#5/5\n"
     ]
    }
   ],
   "source": [
    "\n",
    "import os\n",
    "from pathlib import Path\n",
    "in_folder_path3 = Path('../input/mymodelrobertabase')\n",
    "scripts_dir3 = Path(in_folder_path3 / 'scripts')\n",
    "\n",
    "os.chdir(scripts_dir3)\n",
    "exec(Path(\"imports.py\").read_text())\n",
    "exec(Path(\"config.py\").read_text())\n",
    "exec(Path(\"dataset.py\").read_text())\n",
    "exec(Path(\"model.py\").read_text())\n",
    "os.chdir('/kaggle/working')\n",
    "\n",
    "test_df = pd.read_csv(\"/kaggle/input/commonlitreadabilityprize/test.csv\")\n",
    "tokenizer = torch.load('../input/mytokenizers/roberta-tokenizer.pt')\n",
    "models_folder_path3 = Path(in_folder_path3 / 'models')\n",
    "models_preds3 = []\n",
    "n_models = 5\n",
    "\n",
    "for model_num in range(n_models):\n",
    "    print(f'Inference#{model_num+1}/{n_models}')\n",
    "    test_ds = CLRPDataset(data=test_df, tokenizer=tokenizer, max_len=Config.max_len, is_test=True)\n",
    "    test_sampler = SequentialSampler(test_ds)\n",
    "    test_dataloader = DataLoader(test_ds, sampler = test_sampler, batch_size=Config.batch_size)\n",
    "    model3 = torch.load(models_folder_path3 / f'best_model_{model_num}.pt').to(Config.device)\n",
    "\n",
    "    all_preds3 = []\n",
    "    \n",
    "    model3.eval()\n",
    "\n",
    "    for step,batch in enumerate(test_dataloader):\n",
    "        sent_id, mask = batch['input_ids'].to(Config.device), batch['attention_mask'].to(Config.device)\n",
    "        with torch.no_grad():\n",
    "            preds3 = model3(sent_id, mask)\n",
    "            all_preds3 += preds3.flatten().cpu().tolist()\n",
    "            \n",
    "    models_preds3.append(all_preds3)\n",
    "\n"
   ]
  },
  {
   "cell_type": "code",
   "execution_count": 6,
   "id": "spanish-google",
   "metadata": {
    "execution": {
     "iopub.execute_input": "2021-07-29T04:06:01.938146Z",
     "iopub.status.busy": "2021-07-29T04:06:01.937156Z",
     "iopub.status.idle": "2021-07-29T04:06:01.942355Z",
     "shell.execute_reply": "2021-07-29T04:06:01.941863Z",
     "shell.execute_reply.started": "2021-07-26T09:09:07.726678Z"
    },
    "papermill": {
     "duration": 0.024919,
     "end_time": "2021-07-29T04:06:01.942474",
     "exception": false,
     "start_time": "2021-07-29T04:06:01.917555",
     "status": "completed"
    },
    "tags": []
   },
   "outputs": [
    {
     "data": {
      "text/plain": [
       "[-0.14209526777267456,\n",
       " -0.40494105219841003,\n",
       " -0.5062952041625977,\n",
       " -2.544950008392334,\n",
       " -1.9572596549987793,\n",
       " -1.60797119140625,\n",
       " 0.3970695436000824]"
      ]
     },
     "execution_count": 6,
     "metadata": {},
     "output_type": "execute_result"
    }
   ],
   "source": [
    "all_preds"
   ]
  },
  {
   "cell_type": "code",
   "execution_count": 7,
   "id": "surface-spain",
   "metadata": {
    "execution": {
     "iopub.execute_input": "2021-07-29T04:06:01.977800Z",
     "iopub.status.busy": "2021-07-29T04:06:01.977252Z",
     "iopub.status.idle": "2021-07-29T04:06:01.982077Z",
     "shell.execute_reply": "2021-07-29T04:06:01.982461Z",
     "shell.execute_reply.started": "2021-07-26T09:09:07.742918Z"
    },
    "papermill": {
     "duration": 0.023637,
     "end_time": "2021-07-29T04:06:01.982583",
     "exception": false,
     "start_time": "2021-07-29T04:06:01.958946",
     "status": "completed"
    },
    "tags": []
   },
   "outputs": [
    {
     "data": {
      "text/plain": [
       "[-0.29367074370384216,\n",
       " -0.443433940410614,\n",
       " -0.43108993768692017,\n",
       " -2.2378089427948,\n",
       " -1.768044114112854,\n",
       " -1.1084433794021606,\n",
       " 0.21425555646419525]"
      ]
     },
     "execution_count": 7,
     "metadata": {},
     "output_type": "execute_result"
    }
   ],
   "source": [
    "all_preds2"
   ]
  },
  {
   "cell_type": "code",
   "execution_count": 8,
   "id": "western-pakistan",
   "metadata": {
    "execution": {
     "iopub.execute_input": "2021-07-29T04:06:02.014496Z",
     "iopub.status.busy": "2021-07-29T04:06:02.013983Z",
     "iopub.status.idle": "2021-07-29T04:06:02.019470Z",
     "shell.execute_reply": "2021-07-29T04:06:02.019020Z",
     "shell.execute_reply.started": "2021-07-26T09:09:07.757463Z"
    },
    "papermill": {
     "duration": 0.022981,
     "end_time": "2021-07-29T04:06:02.019573",
     "exception": false,
     "start_time": "2021-07-29T04:06:01.996592",
     "status": "completed"
    },
    "tags": []
   },
   "outputs": [
    {
     "data": {
      "text/plain": [
       "[-0.3722829818725586,\n",
       " -0.6197649836540222,\n",
       " -0.40055134892463684,\n",
       " -2.5443482398986816,\n",
       " -1.8276160955429077,\n",
       " -1.313402771949768,\n",
       " 0.14164228737354279]"
      ]
     },
     "execution_count": 8,
     "metadata": {},
     "output_type": "execute_result"
    }
   ],
   "source": [
    "all_preds3"
   ]
  },
  {
   "cell_type": "code",
   "execution_count": 9,
   "id": "valued-category",
   "metadata": {
    "_cell_guid": "ed2be4e8-71fe-4eb2-a4cf-7cc6b30c5519",
    "_uuid": "6116227b-04bd-4c60-988b-e244833da61d",
    "collapsed": false,
    "execution": {
     "iopub.execute_input": "2021-07-29T04:06:02.056992Z",
     "iopub.status.busy": "2021-07-29T04:06:02.055952Z",
     "iopub.status.idle": "2021-07-29T04:06:02.340108Z",
     "shell.execute_reply": "2021-07-29T04:06:02.340525Z",
     "shell.execute_reply.started": "2021-07-26T09:20:23.978964Z"
    },
    "jupyter": {
     "outputs_hidden": false
    },
    "papermill": {
     "duration": 0.306695,
     "end_time": "2021-07-29T04:06:02.340672",
     "exception": false,
     "start_time": "2021-07-29T04:06:02.033977",
     "status": "completed"
    },
    "tags": []
   },
   "outputs": [
    {
     "name": "stdout",
     "output_type": "stream",
     "text": [
      "(7,)\n",
      "[-0.36548318 -0.47019614 -0.39377353 -2.38485637 -1.88973525 -1.38508565\n",
      "  0.2151849 ]\n"
     ]
    },
    {
     "data": {
      "text/html": [
       "<div>\n",
       "<style scoped>\n",
       "    .dataframe tbody tr th:only-of-type {\n",
       "        vertical-align: middle;\n",
       "    }\n",
       "\n",
       "    .dataframe tbody tr th {\n",
       "        vertical-align: top;\n",
       "    }\n",
       "\n",
       "    .dataframe thead th {\n",
       "        text-align: right;\n",
       "    }\n",
       "</style>\n",
       "<table border=\"1\" class=\"dataframe\">\n",
       "  <thead>\n",
       "    <tr style=\"text-align: right;\">\n",
       "      <th></th>\n",
       "      <th>id</th>\n",
       "      <th>target</th>\n",
       "    </tr>\n",
       "  </thead>\n",
       "  <tbody>\n",
       "    <tr>\n",
       "      <th>0</th>\n",
       "      <td>c0f722661</td>\n",
       "      <td>-0.365483</td>\n",
       "    </tr>\n",
       "    <tr>\n",
       "      <th>1</th>\n",
       "      <td>f0953f0a5</td>\n",
       "      <td>-0.470196</td>\n",
       "    </tr>\n",
       "    <tr>\n",
       "      <th>2</th>\n",
       "      <td>0df072751</td>\n",
       "      <td>-0.393774</td>\n",
       "    </tr>\n",
       "    <tr>\n",
       "      <th>3</th>\n",
       "      <td>04caf4e0c</td>\n",
       "      <td>-2.384856</td>\n",
       "    </tr>\n",
       "    <tr>\n",
       "      <th>4</th>\n",
       "      <td>0e63f8bea</td>\n",
       "      <td>-1.889735</td>\n",
       "    </tr>\n",
       "    <tr>\n",
       "      <th>5</th>\n",
       "      <td>12537fe78</td>\n",
       "      <td>-1.385086</td>\n",
       "    </tr>\n",
       "    <tr>\n",
       "      <th>6</th>\n",
       "      <td>965e592c0</td>\n",
       "      <td>0.215185</td>\n",
       "    </tr>\n",
       "  </tbody>\n",
       "</table>\n",
       "</div>"
      ],
      "text/plain": [
       "          id    target\n",
       "0  c0f722661 -0.365483\n",
       "1  f0953f0a5 -0.470196\n",
       "2  0df072751 -0.393774\n",
       "3  04caf4e0c -2.384856\n",
       "4  0e63f8bea -1.889735\n",
       "5  12537fe78 -1.385086\n",
       "6  965e592c0  0.215185"
      ]
     },
     "execution_count": 9,
     "metadata": {},
     "output_type": "execute_result"
    }
   ],
   "source": [
    "models_preds_ens = 0.51*np.array(models_preds).mean(axis=0)+(np.array(models_preds2)*0.3+np.array(models_preds3)*0.2).mean(axis=0)\n",
    "print(models_preds_ens.shape)\n",
    "print(models_preds_ens)\n",
    "all_preds_ens = models_preds_ens\n",
    "\n",
    "result_df = pd.DataFrame(\n",
    "    {\n",
    "        'id': test_df.id,\n",
    "        'target': all_preds_ens\n",
    "    })\n",
    "\n",
    "\n",
    "result_df.to_csv('submission.csv', index=False)\n",
    "result_df.head(10)"
   ]
  }
 ],
 "metadata": {
  "kernelspec": {
   "display_name": "Python 3",
   "language": "python",
   "name": "python3"
  },
  "language_info": {
   "codemirror_mode": {
    "name": "ipython",
    "version": 3
   },
   "file_extension": ".py",
   "mimetype": "text/x-python",
   "name": "python",
   "nbconvert_exporter": "python",
   "pygments_lexer": "ipython3",
   "version": "3.7.10"
  },
  "papermill": {
   "default_parameters": {},
   "duration": 219.736955,
   "end_time": "2021-07-29T04:06:04.650383",
   "environment_variables": {},
   "exception": null,
   "input_path": "__notebook__.ipynb",
   "output_path": "__notebook__.ipynb",
   "parameters": {},
   "start_time": "2021-07-29T04:02:24.913428",
   "version": "2.3.3"
  }
 },
 "nbformat": 4,
 "nbformat_minor": 5
}
