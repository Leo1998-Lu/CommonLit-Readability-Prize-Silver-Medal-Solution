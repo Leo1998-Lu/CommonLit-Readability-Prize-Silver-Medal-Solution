{
 "cells": [
  {
   "cell_type": "markdown",
   "id": "absolute-ranking",
   "metadata": {
    "execution": {
     "iopub.execute_input": "2021-07-13T08:58:29.101777Z",
     "iopub.status.busy": "2021-07-13T08:58:29.101121Z",
     "iopub.status.idle": "2021-07-13T08:58:29.114724Z",
     "shell.execute_reply": "2021-07-13T08:58:29.113391Z",
     "shell.execute_reply.started": "2021-07-13T08:58:29.101654Z"
    },
    "papermill": {
     "duration": 0.007596,
     "end_time": "2021-07-26T02:09:48.155592",
     "exception": false,
     "start_time": "2021-07-26T02:09:48.147996",
     "status": "completed"
    },
    "tags": []
   },
   "source": [
    "# **Notebooks sequence;)**\n",
    "* Train-val split notebook [*CURRENT ONE*].<br>\n",
    "* Pretrain roberta-base on mlm with the competition data notebook [here](https://www.kaggle.com/chamecall/clrp-pretrain).<br>\n",
    "* Finetune pretrained roberta-base on readability task notebook [here](https://www.kaggle.com/chamecall/clrp-finetune).<br>\n",
    "* Inference model notebook [here](https://www.kaggle.com/chamecall/clrp-inference).<br>"
   ]
  },
  {
   "cell_type": "code",
   "execution_count": 1,
   "id": "certain-pottery",
   "metadata": {
    "_cell_guid": "b1076dfc-b9ad-4769-8c92-a6c4dae69d19",
    "_uuid": "8f2839f25d086af736a60e9eeb907d3b93b6e0e5",
    "execution": {
     "iopub.execute_input": "2021-07-26T02:09:48.176060Z",
     "iopub.status.busy": "2021-07-26T02:09:48.174545Z",
     "iopub.status.idle": "2021-07-26T02:09:52.073924Z",
     "shell.execute_reply": "2021-07-26T02:09:52.073220Z",
     "shell.execute_reply.started": "2021-07-21T21:54:47.71947Z"
    },
    "papermill": {
     "duration": 3.911807,
     "end_time": "2021-07-26T02:09:52.074114",
     "exception": false,
     "start_time": "2021-07-26T02:09:48.162307",
     "status": "completed"
    },
    "tags": []
   },
   "outputs": [
    {
     "name": "stderr",
     "output_type": "stream",
     "text": [
      "/opt/conda/lib/python3.7/site-packages/seaborn/_decorators.py:43: FutureWarning: Pass the following variables as keyword args: x, y. From version 0.12, the only valid positional argument will be `data`, and passing other arguments without an explicit keyword will result in an error or misinterpretation.\n",
      "  FutureWarning\n"
     ]
    },
    {
     "data": {
      "image/png": "[encoded data removed]",
      "text/plain": [
       "<Figure size 432x288 with 1 Axes>"
      ]
     },
     "metadata": {
      "needs_background": "light"
     },
     "output_type": "display_data"
    }
   ],
   "source": [
    "import numpy as np\n",
    "import pandas as pd\n",
    "import torch\n",
    "import torch.nn as nn\n",
    "from sklearn.model_selection import train_test_split, StratifiedShuffleSplit, StratifiedKFold\n",
    "from sklearn.metrics import classification_report\n",
    "from sklearn.preprocessing import KBinsDiscretizer\n",
    "import transformers\n",
    "from transformers import AutoModel, BertTokenizerFast\n",
    "import random\n",
    "from torch.utils.tensorboard import SummaryWriter\n",
    "import os \n",
    "import seaborn as sns\n",
    "import matplotlib.pyplot as plt\n",
    "# specify GPU\n",
    "device = torch.device(\"cuda\")\n",
    "seed = 2021\n",
    "def seed_everything(seed):\n",
    "    random.seed(seed)\n",
    "    os.environ['PYTHONASSEED'] = str(seed)\n",
    "    np.random.seed(seed)\n",
    "    torch.manual_seed(seed)\n",
    "    torch.cuda.manual_seed(seed)\n",
    "    torch.backends.cudnn.deterministic = True\n",
    "    torch.backends.cudnn.benchmark = True\n",
    "    \n",
    "    \n",
    "def show_hist(df):\n",
    "    hist_df = df.bins.value_counts()*100/df.shape[0]\n",
    "    hist_df = hist_df.sort_index()\n",
    "    ax = sns.barplot(list(map(str,hist_df.index)),hist_df.values) \n",
    "    ax.set_xlabel(\"bin num\")\n",
    "    ax.set_ylabel(\"size\")\n",
    "    plt.show()\n",
    "    \n",
    "seed_everything(seed=seed)\n",
    "\n",
    "train_data = pd.read_csv('../input/commonlitreadabilityprize/train.csv')\n",
    "## https://onlinestatbook.com/glossary/sturgiss_rule.html\n",
    "num_bins = int(np.floor(1 + np.log2(len(train_data))))\n",
    "train_data.loc[:,'bins'] = pd.cut(train_data['target'], bins=num_bins,labels=False)\n",
    "bins = train_data.bins.to_numpy()\n",
    "target = train_data.target.to_numpy()\n",
    "# print(train_data.bins.value_counts())\n",
    "show_hist(train_data)\n"
   ]
  },
  {
   "cell_type": "code",
   "execution_count": 2,
   "id": "respected-complex",
   "metadata": {
    "execution": {
     "iopub.execute_input": "2021-07-26T02:09:52.094719Z",
     "iopub.status.busy": "2021-07-26T02:09:52.094056Z",
     "iopub.status.idle": "2021-07-26T02:09:52.096992Z",
     "shell.execute_reply": "2021-07-26T02:09:52.096474Z",
     "shell.execute_reply.started": "2021-07-21T21:54:52.016497Z"
    },
    "papermill": {
     "duration": 0.014949,
     "end_time": "2021-07-26T02:09:52.097137",
     "exception": false,
     "start_time": "2021-07-26T02:09:52.082188",
     "status": "completed"
    },
    "tags": []
   },
   "outputs": [],
   "source": [
    "\n",
    "# train_data['val'] = 0\n",
    "# kfold = StratifiedShuffleSplit(n_splits=1, random_state=seed, test_size=0.2)\n",
    "# for k , (train_idx,valid_idx) in enumerate(kfold.split(X=train_data, y=bins)):\n",
    "#     train_data.loc[valid_idx,'val'] = 1\n",
    "    \n",
    "#     train_df = train_data.loc[train_idx]\n",
    "#     val_df = train_data.loc[valid_idx]\n",
    "    \n",
    "# print(train_df.shape, val_df.shape)\n",
    "# # print(len(set(train_df.id) | set(val_df.id)), len(train_data))\n",
    "\n",
    "\n",
    "# ##\n",
    "# # np.vstack([train_data[train_data.val==0].bins.value_counts(), train_data[train_data.val==1].bins.value_counts()]).T\n",
    "\n",
    "# train_df.to_csv('train.csv', index=False)\n",
    "# val_df.to_csv('val.csv', index=False)\n",
    "# !ls\n",
    "\n"
   ]
  },
  {
   "cell_type": "code",
   "execution_count": 3,
   "id": "architectural-fantasy",
   "metadata": {
    "execution": {
     "iopub.execute_input": "2021-07-26T02:09:52.117537Z",
     "iopub.status.busy": "2021-07-26T02:09:52.116885Z",
     "iopub.status.idle": "2021-07-26T02:09:52.119956Z",
     "shell.execute_reply": "2021-07-26T02:09:52.119291Z",
     "shell.execute_reply.started": "2021-07-21T21:54:52.022946Z"
    },
    "papermill": {
     "duration": 0.015224,
     "end_time": "2021-07-26T02:09:52.120233",
     "exception": false,
     "start_time": "2021-07-26T02:09:52.105009",
     "status": "completed"
    },
    "tags": []
   },
   "outputs": [],
   "source": [
    "# train_df.target.plot.kde(label='train')\n",
    "# val_df.target.plot.kde(label='val')\n",
    "# ax = train_data.target.plot.kde(label='all data')\n",
    "# ax.legend()\n",
    "# ax.set_title('data distribution')\n",
    "\n",
    "# show_hist(train_df)\n",
    "# show_hist(val_df)"
   ]
  },
  {
   "cell_type": "markdown",
   "id": "radio-folks",
   "metadata": {
    "papermill": {
     "duration": 0.008244,
     "end_time": "2021-07-26T02:09:52.136436",
     "exception": false,
     "start_time": "2021-07-26T02:09:52.128192",
     "status": "completed"
    },
    "tags": []
   },
   "source": [
    "## K Folds"
   ]
  },
  {
   "cell_type": "code",
   "execution_count": 4,
   "id": "fallen-reliance",
   "metadata": {
    "execution": {
     "iopub.execute_input": "2021-07-26T02:09:52.161180Z",
     "iopub.status.busy": "2021-07-26T02:09:52.160423Z",
     "iopub.status.idle": "2021-07-26T02:09:54.585564Z",
     "shell.execute_reply": "2021-07-26T02:09:54.584968Z",
     "shell.execute_reply.started": "2021-07-21T21:54:52.045907Z"
    },
    "papermill": {
     "duration": 2.441252,
     "end_time": "2021-07-26T02:09:54.585778",
     "exception": false,
     "start_time": "2021-07-26T02:09:52.144526",
     "status": "completed"
    },
    "tags": []
   },
   "outputs": [
    {
     "name": "stderr",
     "output_type": "stream",
     "text": [
      "/opt/conda/lib/python3.7/site-packages/seaborn/_decorators.py:43: FutureWarning: Pass the following variables as keyword args: x, y. From version 0.12, the only valid positional argument will be `data`, and passing other arguments without an explicit keyword will result in an error or misinterpretation.\n",
      "  FutureWarning\n"
     ]
    },
    {
     "data": {
      "image/png": "[encoded data removed]",
      "text/plain": [
       "<Figure size 432x288 with 1 Axes>"
      ]
     },
     "metadata": {
      "needs_background": "light"
     },
     "output_type": "display_data"
    },
    {
     "name": "stderr",
     "output_type": "stream",
     "text": [
      "/opt/conda/lib/python3.7/site-packages/seaborn/_decorators.py:43: FutureWarning: Pass the following variables as keyword args: x, y. From version 0.12, the only valid positional argument will be `data`, and passing other arguments without an explicit keyword will result in an error or misinterpretation.\n",
      "  FutureWarning\n"
     ]
    },
    {
     "data": {
      "image/png": "[encoded data removed]",
      "text/plain": [
       "<Figure size 432x288 with 1 Axes>"
      ]
     },
     "metadata": {
      "needs_background": "light"
     },
     "output_type": "display_data"
    },
    {
     "name": "stderr",
     "output_type": "stream",
     "text": [
      "/opt/conda/lib/python3.7/site-packages/seaborn/_decorators.py:43: FutureWarning: Pass the following variables as keyword args: x, y. From version 0.12, the only valid positional argument will be `data`, and passing other arguments without an explicit keyword will result in an error or misinterpretation.\n",
      "  FutureWarning\n"
     ]
    },
    {
     "data": {
      "image/png": "[encoded data removed]",
      "text/plain": [
       "<Figure size 432x288 with 1 Axes>"
      ]
     },
     "metadata": {
      "needs_background": "light"
     },
     "output_type": "display_data"
    },
    {
     "name": "stderr",
     "output_type": "stream",
     "text": [
      "/opt/conda/lib/python3.7/site-packages/seaborn/_decorators.py:43: FutureWarning: Pass the following variables as keyword args: x, y. From version 0.12, the only valid positional argument will be `data`, and passing other arguments without an explicit keyword will result in an error or misinterpretation.\n",
      "  FutureWarning\n"
     ]
    },
    {
     "data": {
      "image/png": "[encoded data removed]",
      "text/plain": [
       "<Figure size 432x288 with 1 Axes>"
      ]
     },
     "metadata": {
      "needs_background": "light"
     },
     "output_type": "display_data"
    },
    {
     "name": "stderr",
     "output_type": "stream",
     "text": [
      "/opt/conda/lib/python3.7/site-packages/seaborn/_decorators.py:43: FutureWarning: Pass the following variables as keyword args: x, y. From version 0.12, the only valid positional argument will be `data`, and passing other arguments without an explicit keyword will result in an error or misinterpretation.\n",
      "  FutureWarning\n"
     ]
    },
    {
     "data": {
      "image/png": "[encoded data removed]",
      "text/plain": [
       "<Figure size 432x288 with 1 Axes>"
      ]
     },
     "metadata": {
      "needs_background": "light"
     },
     "output_type": "display_data"
    },
    {
     "name": "stderr",
     "output_type": "stream",
     "text": [
      "/opt/conda/lib/python3.7/site-packages/seaborn/_decorators.py:43: FutureWarning: Pass the following variables as keyword args: x, y. From version 0.12, the only valid positional argument will be `data`, and passing other arguments without an explicit keyword will result in an error or misinterpretation.\n",
      "  FutureWarning\n"
     ]
    },
    {
     "data": {
      "image/png": "[encoded data removed]",
      "text/plain": [
       "<Figure size 432x288 with 1 Axes>"
      ]
     },
     "metadata": {
      "needs_background": "light"
     },
     "output_type": "display_data"
    },
    {
     "name": "stderr",
     "output_type": "stream",
     "text": [
      "/opt/conda/lib/python3.7/site-packages/seaborn/_decorators.py:43: FutureWarning: Pass the following variables as keyword args: x, y. From version 0.12, the only valid positional argument will be `data`, and passing other arguments without an explicit keyword will result in an error or misinterpretation.\n",
      "  FutureWarning\n"
     ]
    },
    {
     "data": {
      "image/png": "[encoded data removed]",
      "text/plain": [
       "<Figure size 432x288 with 1 Axes>"
      ]
     },
     "metadata": {
      "needs_background": "light"
     },
     "output_type": "display_data"
    },
    {
     "name": "stderr",
     "output_type": "stream",
     "text": [
      "/opt/conda/lib/python3.7/site-packages/seaborn/_decorators.py:43: FutureWarning: Pass the following variables as keyword args: x, y. From version 0.12, the only valid positional argument will be `data`, and passing other arguments without an explicit keyword will result in an error or misinterpretation.\n",
      "  FutureWarning\n"
     ]
    },
    {
     "data": {
      "image/png": "[encoded data removed]",
      "text/plain": [
       "<Figure size 432x288 with 1 Axes>"
      ]
     },
     "metadata": {
      "needs_background": "light"
     },
     "output_type": "display_data"
    },
    {
     "name": "stderr",
     "output_type": "stream",
     "text": [
      "/opt/conda/lib/python3.7/site-packages/seaborn/_decorators.py:43: FutureWarning: Pass the following variables as keyword args: x, y. From version 0.12, the only valid positional argument will be `data`, and passing other arguments without an explicit keyword will result in an error or misinterpretation.\n",
      "  FutureWarning\n"
     ]
    },
    {
     "data": {
      "image/png": "[encoded data removed]",
      "text/plain": [
       "<Figure size 432x288 with 1 Axes>"
      ]
     },
     "metadata": {
      "needs_background": "light"
     },
     "output_type": "display_data"
    },
    {
     "name": "stderr",
     "output_type": "stream",
     "text": [
      "/opt/conda/lib/python3.7/site-packages/seaborn/_decorators.py:43: FutureWarning: Pass the following variables as keyword args: x, y. From version 0.12, the only valid positional argument will be `data`, and passing other arguments without an explicit keyword will result in an error or misinterpretation.\n",
      "  FutureWarning\n"
     ]
    },
    {
     "data": {
      "image/png": "[encoded data removed]",
      "text/plain": [
       "<Figure size 432x288 with 1 Axes>"
      ]
     },
     "metadata": {
      "needs_background": "light"
     },
     "output_type": "display_data"
    }
   ],
   "source": [
    "# k folds\n",
    "train_data['fold'] = 0\n",
    "kfold = StratifiedKFold(n_splits=10,shuffle=True,random_state=seed)\n",
    "for fold, (train_idx,valid_idx) in enumerate(kfold.split(X=train_data, y=bins)):\n",
    "    train_data.loc[valid_idx,'fold'] = fold\n",
    "    show_hist(train_data.loc[valid_idx])\n",
    "train_data.fold.value_counts()\n",
    "\n",
    "train_data.to_csv('kfold.csv', index=False)\n"
   ]
  },
  {
   "cell_type": "code",
   "execution_count": 5,
   "id": "packed-consideration",
   "metadata": {
    "execution": {
     "iopub.execute_input": "2021-07-26T02:09:54.641206Z",
     "iopub.status.busy": "2021-07-26T02:09:54.627422Z",
     "iopub.status.idle": "2021-07-26T02:09:55.393836Z",
     "shell.execute_reply": "2021-07-26T02:09:55.393126Z",
     "shell.execute_reply.started": "2021-07-21T21:54:53.26728Z"
    },
    "papermill": {
     "duration": 0.79002,
     "end_time": "2021-07-26T02:09:55.393981",
     "exception": false,
     "start_time": "2021-07-26T02:09:54.603961",
     "status": "completed"
    },
    "tags": []
   },
   "outputs": [],
   "source": [
    "!date '+%A %W %Y %X' > execution_time"
   ]
  }
 ],
 "metadata": {
  "kernelspec": {
   "display_name": "Python 3",
   "language": "python",
   "name": "python3"
  },
  "language_info": {
   "codemirror_mode": {
    "name": "ipython",
    "version": 3
   },
   "file_extension": ".py",
   "mimetype": "text/x-python",
   "name": "python",
   "nbconvert_exporter": "python",
   "pygments_lexer": "ipython3",
   "version": "3.7.10"
  },
  "papermill": {
   "default_parameters": {},
   "duration": 18.031597,
   "end_time": "2021-07-26T02:09:56.943119",
   "environment_variables": {},
   "exception": null,
   "input_path": "__notebook__.ipynb",
   "output_path": "__notebook__.ipynb",
   "parameters": {},
   "start_time": "2021-07-26T02:09:38.911522",
   "version": "2.3.3"
  }
 },
 "nbformat": 4,
 "nbformat_minor": 5
}
